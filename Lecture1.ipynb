{
 "cells": [
  {
   "cell_type": "markdown",
   "metadata": {},
   "source": [
    "### Transportation problem\n",
    "$$\n",
    "\\begin{array}{rl}\n",
    "    \\min & 10 x_{11} + 12 x_{12} + 14 x_{13} + 11 x_{21} + 12 x_{22} + 13 x_{23}  \\\\\n",
    "      \\mbox{Subject to} & x_{11} + x_{12} + x_{13} \\, \\le \\,   100 \\nonumber \\\\\n",
    "  & x_{21} + x_{22} + x_{23} \\, \\le \\,   200 \\nonumber \\\\\n",
    "  & x_{11} + x_{21} \\, \\ge \\,   50 \\nonumber \\\\\n",
    "  &  x_{12} + x_{22} \\, \\ge \\,   100 \\nonumber \\\\\n",
    "  & x_{13} + x_{23} \\, \\ge \\,   150 \\nonumber \\\\\n",
    "  & x \\ge 0\n",
    "\\end{array}\n",
    "$$"
   ]
  },
  {
   "cell_type": "code",
   "execution_count": 2,
   "metadata": {},
   "outputs": [],
   "source": [
    "import numpy as np\n",
    "import cvxpy as cp\n",
    "import scipy"
   ]
  },
  {
   "cell_type": "code",
   "execution_count": 3,
   "metadata": {},
   "outputs": [],
   "source": [
    "m = 2\n",
    "n = 3\n",
    "x = cp.Variable((m,n))"
   ]
  },
  {
   "cell_type": "code",
   "execution_count": 176,
   "metadata": {},
   "outputs": [],
   "source": [
    "obj = cp.Minimize(10*x[0,0] + 12*x[0,1] + 14*x[0,2] + 11*x[1,0] + 12*x[1,1] + 13*x[1,2])"
   ]
  },
  {
   "cell_type": "code",
   "execution_count": 177,
   "metadata": {},
   "outputs": [],
   "source": [
    "constraints = [\n",
    "    x[0,0] + x[0,1] + x[0,2] <= 100,\n",
    "    x[1,0] + x[1,1] + x[1,2] <= 200,\n",
    "    x[0,0] + x[1,0] >= 50,\n",
    "    x[0,1] + x[1,1] >= 100,\n",
    "    x[0,2] + x[1,2] >= 150,\n",
    "    x >= 0\n",
    "]"
   ]
  },
  {
   "cell_type": "code",
   "execution_count": 178,
   "metadata": {},
   "outputs": [],
   "source": [
    "prob = cp.Problem(obj,constraints)"
   ]
  },
  {
   "cell_type": "code",
   "execution_count": 182,
   "metadata": {},
   "outputs": [
    {
     "name": "stdout",
     "output_type": "stream",
     "text": [
      "value = 3650.000000025025\n",
      "x = [[4.99999995e+01 4.99999997e+01 7.24977381e-07]\n",
      " [4.21322203e-07 5.00000003e+01 1.49999999e+02]]\n"
     ]
    }
   ],
   "source": [
    "prob.solve()\n",
    "if (prob.status == 'optimal'):\n",
    "    print('value = ' + str(prob.value))\n",
    "    print('x = ' + str(x.value))"
   ]
  },
  {
   "cell_type": "code",
   "execution_count": 183,
   "metadata": {},
   "outputs": [
    {
     "name": "stdout",
     "output_type": "stream",
     "text": [
      "value = 3650.0\n",
      "x = [[ 50.  50.   0.]\n",
      " [  0.  50. 150.]]\n"
     ]
    }
   ],
   "source": [
    "prob.solve(solver=cp.GLPK)\n",
    "if (prob.status == 'optimal'):\n",
    "    print('value = ' + str(prob.value))\n",
    "    print('x = ' + str(x.value))"
   ]
  },
  {
   "cell_type": "markdown",
   "metadata": {},
   "source": [
    "### Investment problem\n",
    "$$ \n",
    "\\begin{array}{rrcl}\n",
    "  \\max_{x,y} & y_3\\\\\n",
    "  \\mbox{Subject to} & x_a + x_b + y_0  & = &  100\\\\\n",
    "  & 0.1x_a + 0.2x_b - x_c + 1.02y_0 - y_1 & = & 0\\\\\n",
    "  & 1.1 x_b + 1.02 y_1  - y_2  & = &   0\\\\\n",
    "  & 1.3 x_a + 1.5 x_c + 1.02 y_2 - y_3  & = & 0\\\\\n",
    "  & x, y & \\ge & 0\n",
    "\\end{array}\n",
    "$$"
   ]
  },
  {
   "cell_type": "code",
   "execution_count": 185,
   "metadata": {},
   "outputs": [],
   "source": [
    "x = cp.Variable(3)\n",
    "y = cp.Variable(4)"
   ]
  },
  {
   "cell_type": "code",
   "execution_count": 186,
   "metadata": {},
   "outputs": [],
   "source": [
    "obj = cp.Maximize(y[3])"
   ]
  },
  {
   "cell_type": "code",
   "execution_count": 187,
   "metadata": {},
   "outputs": [],
   "source": [
    "constraints = [\n",
    "    x[0] + x[1] + y[0] <= 100,\n",
    "    0.1*x[0] + 0.2*x[1] + 1.02*y[0] == x[2] + y[1],\n",
    "    1.1*x[1]  + 1.02*y[1] == y[2],\n",
    "    1.3*x[0] + 1.5*x[2] + 1.02*y[2] == y[3],\n",
    "    x >= 0,\n",
    "    y >= 0\n",
    "]"
   ]
  },
  {
   "cell_type": "code",
   "execution_count": 188,
   "metadata": {},
   "outputs": [],
   "source": [
    "prob = cp.Problem(obj,constraints)"
   ]
  },
  {
   "cell_type": "code",
   "execution_count": 189,
   "metadata": {},
   "outputs": [
    {
     "name": "stdout",
     "output_type": "stream",
     "text": [
      "value = 153.0\n",
      "x = [  0.   0. 102.]\n",
      "y = [100.   0.   0. 153.]\n"
     ]
    }
   ],
   "source": [
    "prob.solve(solver=cp.GLPK)\n",
    "if (prob.status == 'optimal'):\n",
    "    print('value = ' + str(prob.value))\n",
    "    print('x = ' + str(x.value))\n",
    "    print('y = ' + str(y.value))"
   ]
  },
  {
   "cell_type": "markdown",
   "metadata": {},
   "source": [
    "### Linear programming using native scipy function\n",
    "\n",
    "scipy.optimize.linprog(c, A_ub=None, b_ub=None, A_eq=None, b_eq=None, bounds=None, method='interior-point', callback=None, options=None, x0=None)\n",
    "\n",
    "Solves\n",
    "$$\n",
    "\\begin{array}{rl}\n",
    "\\mbox{min} & c^\\top x\\\\\n",
    "\\mbox{s.t.} & A_{ub} x \\leq b_{ub}\\\\\n",
    "& A_{eq} x = b_{eq}\\\\\n",
    "& \\ell \\leq x \\leq u\n",
    "\\end{array}\n",
    "$$\n"
   ]
  },
  {
   "cell_type": "code",
   "execution_count": 121,
   "metadata": {},
   "outputs": [
    {
     "name": "stdout",
     "output_type": "stream",
     "text": [
      "x = [  0.   0. 102.]\n",
      "y = [100.   0.   0. 153.]\n"
     ]
    }
   ],
   "source": [
    "# Solve cash flow problem using this function\n",
    "from scipy.optimize import linprog\n",
    "\n",
    "numx = 3\n",
    "numy = 4\n",
    "numvars = 7\n",
    "T = 4\n",
    "\n",
    "# objective vector\n",
    "c = np.zeros(numvars)\n",
    "c[numvars-1] = -1 # maximizing y[3] is the same as minimizing -y[3]\n",
    "\n",
    "# constraint matrix\n",
    "Aeq = np.zeros((T,numvars))\n",
    "beq = np.zeros(T)\n",
    "# first constraint\n",
    "Aeq[0][0] = 1\n",
    "Aeq[0][1] = 1\n",
    "Aeq[0][numx] = 1\n",
    "beq[0] = 100\n",
    "# second constraint\n",
    "Aeq[1][0] = 0.1\n",
    "Aeq[1][1] = 0.2\n",
    "Aeq[1][2] = -1\n",
    "Aeq[1][numx] = 1.02\n",
    "Aeq[1][numx+1] = -1\n",
    "# third constraint\n",
    "Aeq[2][1] = 1.1\n",
    "Aeq[2][numx+1] = 1.02\n",
    "Aeq[2][numx+2] = -1\n",
    "# fourth constraint\n",
    "Aeq[3][0] = 1.3\n",
    "Aeq[3][2] = 1.5\n",
    "Aeq[3][numx+2] = 1.02\n",
    "Aeq[3][numx+3] = -1\n",
    "\n",
    "bounds = (0,np.Inf)\n",
    "\n",
    "res = linprog(c,A_eq=Aeq,b_eq=beq,bounds=bounds,method='simplex')\n",
    "x = res.x[0:numx]\n",
    "y = res.x[numx:numvars]\n",
    "print('x = ' + str(x))\n",
    "print('y = ' + str(y))"
   ]
  },
  {
   "cell_type": "markdown",
   "metadata": {},
   "source": [
    "### Feed blending problem\n",
    "\n",
    "The LP for this problem is as follows:\n",
    "$$\n",
    "\\begin{array}{rl}\n",
    "\\min_x & 200x_o + 150x_c + 100x_a + 75x_h,\\\\\n",
    "\\mbox{s.t.} & 60x_o + 80x_c + 30x_a + 40x_h  \\geq  60\\\\\n",
    "& 50x_o + 70x_c + 40x_a + 100x_h \\leq  60,\\\\\n",
    "& 90x_o + 30x_c + 60x_a + 80x_h  \\geq  60,\\\\\n",
    "& x_o + x_c + x_a + x_h = 1,\\\\\n",
    "& x \\geq 0\n",
    "\\end{array}\n",
    "$$"
   ]
  },
  {
   "cell_type": "code",
   "execution_count": 9,
   "metadata": {},
   "outputs": [],
   "source": [
    "xo = cp.Variable(1)\n",
    "xc = cp.Variable(1)\n",
    "xa = cp.Variable(1)\n",
    "xh = cp.Variable(1)"
   ]
  },
  {
   "cell_type": "code",
   "execution_count": 13,
   "metadata": {},
   "outputs": [],
   "source": [
    "obj = cp.Minimize(200*xo + 150*xc + 100*xa + 75*xh)\n",
    "constraints = [\n",
    "    60*xo + 80*xc + 30*xa + 40*xh >= 60,\n",
    "    50*xo + 70*xc + 40*xa + 100*xh <=  60,\n",
    "    90*xo + 30*xc + 60*xa + 80*xc >=  60,\n",
    "     xo + xc + xa + xh == 1,\n",
    "    xo >= 0, xc >=0, xa >= 0, xh >= 0\n",
    "]"
   ]
  },
  {
   "cell_type": "code",
   "execution_count": 15,
   "metadata": {},
   "outputs": [
    {
     "name": "stdout",
     "output_type": "stream",
     "text": [
      "cost = 128.7037037037037\n",
      "x_o = [0.]\n",
      "x_c = [0.59259259]\n",
      "x_a = [0.37037037]\n",
      "x_h = [0.03703704]\n"
     ]
    }
   ],
   "source": [
    "prob = cp.Problem(obj,constraints)\n",
    "prob.solve(solver=cp.GLPK)\n",
    "if (prob.status == 'optimal'):\n",
    "    print('cost = ' + str(prob.value))\n",
    "    print('x_o = ' + str(xo.value))\n",
    "    print('x_c = ' + str(xc.value))\n",
    "    print('x_a = ' + str(xa.value))\n",
    "    print('x_h = ' + str(xh.value))"
   ]
  },
  {
   "cell_type": "markdown",
   "metadata": {},
   "source": [
    "### Nurse scheduling problem\n",
    "\n",
    "The LP here is as follows:\n",
    "$$\n",
    "\\begin{array}{rl}\n",
    "  \\min_x & \\sum_{j=0}^6 x_j,\\\\ \n",
    "  \\mbox{s.t.} & \\sum_{k=0}^4 x_{(j-k) \\text{ mod } 6} \\geq d_j, \\qquad j =\n",
    "                0, \\ldots, 6,\\\\ \n",
    "  & x \\geq 0.\n",
    "\\end{array}\n",
    "$$\n"
   ]
  },
  {
   "cell_type": "code",
   "execution_count": 33,
   "metadata": {},
   "outputs": [],
   "source": [
    "# Data\n",
    "d = np.array([110, 100,  90,  90, 100, 115, 120])\n",
    "T = 7\n",
    "\n",
    "x = cp.Variable(T)"
   ]
  },
  {
   "cell_type": "code",
   "execution_count": 34,
   "metadata": {},
   "outputs": [],
   "source": [
    "obj = cp.Minimize(sum(x))\n",
    "constraints = []\n",
    "for j in range(T):\n",
    "    constraints += [sum([x[(j-k)%T] for k in range(T-2)]) >= d[j]]\n",
    "constraints += [x >= 0]"
   ]
  },
  {
   "cell_type": "code",
   "execution_count": 35,
   "metadata": {},
   "outputs": [
    {
     "name": "stdout",
     "output_type": "stream",
     "text": [
      "number of nurses = 145.0\n",
      "x = [10. 15. 20. 25. 30. 25. 20.]\n"
     ]
    }
   ],
   "source": [
    "prob = cp.Problem(obj,constraints)\n",
    "prob.solve(solver=cp.GLPK)\n",
    "if (prob.status == 'optimal'):\n",
    "    print('number of nurses = ' + str(prob.value))\n",
    "    print('x = ' + str(x.value))"
   ]
  },
  {
   "cell_type": "markdown",
   "metadata": {},
   "source": [
    "### Inventory problem\n",
    "In the following example we have four time periods\n",
    "and per-unit production costs and capacities are given as\n",
    "per the table below. Additionally, units product of the product at each\n",
    "level of completion can be stored as inventory, at a per-unit cost and\n",
    "also subject to capacities. The problem is to establish a production and inventory plan that delivers all demands at minimum cost."
   ]
  },
  {
   "cell_type": "code",
   "execution_count": 162,
   "metadata": {},
   "outputs": [],
   "source": [
    "# data\n",
    "\n",
    "c = np.array([50,4000,30,22]) # production costs\n",
    "u = np.array([100,50,54,90])  # production capacity\n",
    "h = np.array([150,240,45]) # inventory cost\n",
    "w = np.array([170,10,44]) # inventory capacity\n",
    "d = np.array([70,50,40,90]) # demand\n",
    "\n",
    "T = len(c)"
   ]
  },
  {
   "cell_type": "code",
   "execution_count": 163,
   "metadata": {},
   "outputs": [],
   "source": [
    "x = cp.Variable(T) # production \n",
    "s = cp.Variable(T-1) # storage/inventory"
   ]
  },
  {
   "cell_type": "code",
   "execution_count": 164,
   "metadata": {},
   "outputs": [],
   "source": [
    "obj_expr = []\n",
    "for t in range(T):\n",
    "    obj_expr += [c[t]*x[t]]\n",
    "for t in range(T-1):\n",
    "    obj_expr += [h[t]*s[t]]\n",
    "obj = cp.Minimize(sum(obj_expr))"
   ]
  },
  {
   "cell_type": "code",
   "execution_count": 165,
   "metadata": {},
   "outputs": [],
   "source": [
    "constraints = [\n",
    "    x >= 0, s >= 0, x <= u, s <= w,\n",
    "    x[0] == d[0] + s[0],\n",
    "    x[1] + s[0] == d[1] + s[1],\n",
    "    x[2] + s[1] == d[2] + s[2],\n",
    "    s[2] + x[3] == d[3]\n",
    "]"
   ]
  },
  {
   "cell_type": "code",
   "execution_count": 166,
   "metadata": {},
   "outputs": [],
   "source": [
    "prob = cp.Problem(obj,constraints)"
   ]
  },
  {
   "cell_type": "code",
   "execution_count": 168,
   "metadata": {},
   "outputs": [
    {
     "name": "stdout",
     "output_type": "stream",
     "text": [
      "obj = 92680.0\n",
      "x = [100.  20.  40.  90.]\n",
      "s = [30.  0.  0.]\n"
     ]
    }
   ],
   "source": [
    "prob.solve(solver=cp.GLPK)\n",
    "\n",
    "if (prob.status == 'optimal'):\n",
    "    print('obj = ' + str(prob.value))\n",
    "    print('x = ' + str(x.value))\n",
    "    print('s = ' + str(s.value))"
   ]
  },
  {
   "cell_type": "markdown",
   "metadata": {},
   "source": [
    "### Inventory control with back orders\n",
    "\n",
    "Let $b_t$ denote the amount back ordered at time $t$. Then the new dynamics are given by \n",
    "$$\n",
    "s_{t-1} + x_t + b_t = d_t + s_t + b_{t-1}\n",
    "$$"
   ]
  },
  {
   "cell_type": "code",
   "execution_count": 169,
   "metadata": {},
   "outputs": [],
   "source": [
    "x = cp.Variable(T) # production \n",
    "s = cp.Variable(T-1) # storage/inventory\n",
    "b = cp.Variable(T-1) # back ordered quantity\n",
    "\n",
    "c_b = 500 # backorder cost"
   ]
  },
  {
   "cell_type": "code",
   "execution_count": 170,
   "metadata": {},
   "outputs": [],
   "source": [
    "obj_expr = []\n",
    "for t in range(T-1):\n",
    "    obj_expr += [c[t]*x[t] + h[t]*s[t] + c_b*b[t]]\n",
    "obj_expr += [c[T-1]*x[T-1]]\n",
    "obj = cp.Minimize(sum(obj_expr))"
   ]
  },
  {
   "cell_type": "code",
   "execution_count": 171,
   "metadata": {},
   "outputs": [],
   "source": [
    "constraints = [\n",
    "    x >= 0, s >= 0, x <= u, s <= w, b >= 0,\n",
    "    x[0] + b[0] == d[0] + s[0],\n",
    "    x[1] + s[0] + b[1] == d[1] + s[1] + b[0],\n",
    "    x[2] + s[1] + b[2] == d[2] + s[2] + b[1],\n",
    "    s[2] + x[3] == d[3] + b[2]\n",
    "]"
   ]
  },
  {
   "cell_type": "code",
   "execution_count": 172,
   "metadata": {},
   "outputs": [
    {
     "name": "stdout",
     "output_type": "stream",
     "text": [
      "obj = 44100.0\n",
      "x = [100.   6.  54.  90.]\n",
      "s = [30.  0.  0.]\n",
      "b = [ 0. 14.  0.]\n"
     ]
    }
   ],
   "source": [
    "prob = cp.Problem(obj,constraints)\n",
    "prob.solve(solver=cp.GLPK)\n",
    "\n",
    "if (prob.status == 'optimal'):\n",
    "    print('obj = ' + str(prob.value))\n",
    "    print('x = ' + str(x.value))\n",
    "    print('s = ' + str(s.value))\n",
    "    print('b = ' + str(b.value))"
   ]
  },
  {
   "cell_type": "markdown",
   "metadata": {},
   "source": [
    "### Assignment problem\n",
    "\n",
    "$$\n",
    "\\begin{array}{rll}\n",
    "\\mbox{max} & \\sum_{i=1}^I \\sum_{j=1}^J w_{ij} x_{ij}\\\\\n",
    "\\mbox{s.t.} & \\sum_{i=1}^I x_{ij} \\leq 1, & j = 1, \\ldots, J,\\\\\n",
    "& \\sum_{j=1}^J x_{ij} \\leq 1, & i = 1, \\ldots, I,\\\\\n",
    "& x_{ij} \\geq 0, & i = 1, \\ldots, I, j = 1, \\ldots, J.\n",
    "\\end{array}\n",
    "$$"
   ]
  },
  {
   "cell_type": "code",
   "execution_count": 213,
   "metadata": {},
   "outputs": [],
   "source": [
    "# Data\n",
    "I = 100\n",
    "J = 200\n",
    "\n",
    "# randomly generate the w matrix\n",
    "np.random.seed(0)\n",
    "w = np.array([[np.random.rand() for j in range(J)] for i in range(I)])"
   ]
  },
  {
   "cell_type": "code",
   "execution_count": 214,
   "metadata": {},
   "outputs": [],
   "source": [
    "x = cp.Variable((I,J))\n"
   ]
  },
  {
   "cell_type": "code",
   "execution_count": 223,
   "metadata": {},
   "outputs": [],
   "source": [
    "# define the objective expression\n",
    "obj_expr = []\n",
    "for i in range(I):\n",
    "    for j in range(J):\n",
    "        obj_expr += [w[i,j]*x[i,j]]\n",
    "obj = cp.Maximize(sum(obj_expr))\n",
    "\n",
    "constraints = []\n",
    "for i in range(I):\n",
    "    constraints += [sum([x[i,j] for j in range(J)]) <= 1]\n",
    "    \n",
    "for j in range(J):\n",
    "    constraints += [sum([x[i,j] for i in range(I)]) <= 1]\n",
    "    \n",
    "constraints += [x >=0]"
   ]
  },
  {
   "cell_type": "code",
   "execution_count": 224,
   "metadata": {},
   "outputs": [
    {
     "data": {
      "text/plain": [
       "99.42296749780098"
      ]
     },
     "execution_count": 224,
     "metadata": {},
     "output_type": "execute_result"
    }
   ],
   "source": [
    "prob = cp.Problem(obj,constraint)\n",
    "prob.solve(solver=cp.GLPK)"
   ]
  }
 ],
 "metadata": {
  "kernelspec": {
   "display_name": "Python 3",
   "language": "python",
   "name": "python3"
  },
  "language_info": {
   "codemirror_mode": {
    "name": "ipython",
    "version": 3
   },
   "file_extension": ".py",
   "mimetype": "text/x-python",
   "name": "python",
   "nbconvert_exporter": "python",
   "pygments_lexer": "ipython3",
   "version": "3.8.5"
  }
 },
 "nbformat": 4,
 "nbformat_minor": 4
}
